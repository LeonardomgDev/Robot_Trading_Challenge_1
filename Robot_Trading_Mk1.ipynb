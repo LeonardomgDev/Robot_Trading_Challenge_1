{
 "cells": [
  {
   "attachments": {},
   "cell_type": "markdown",
   "metadata": {},
   "source": [
    "# Robot Trading"
   ]
  },
  {
   "attachments": {},
   "cell_type": "markdown",
   "metadata": {},
   "source": [
    "## Parte 1: Configuración del ambiente"
   ]
  },
  {
   "attachments": {},
   "cell_type": "markdown",
   "metadata": {},
   "source": [
    "***Vamos a realizar la importación de las bibliotecas y las variables globales que necesitaremos para trabajar en el proyecto***"
   ]
  },
  {
   "cell_type": "code",
   "execution_count": 1,
   "metadata": {},
   "outputs": [],
   "source": [
    "import pandas as pd\n",
    "\n",
    "import numpy as np\n",
    "\n",
    "import yfinance as yf\n",
    "\n",
    "%matplotlib inline\n",
    "import matplotlib.pyplot as plt\n",
    "plt.rc('figure', figsize = (19.2, 10.8))\n",
    "\n",
    "from bs4 import BeautifulSoup; import requests\n",
    "\n",
    "global algoritmo_decision, df_bitcoin, df_bitcoin_limpio, precio_actual, tendencia"
   ]
  },
  {
   "attachments": {},
   "cell_type": "markdown",
   "metadata": {},
   "source": [
    "## Parte 2: Obtención de datos"
   ]
  },
  {
   "attachments": {},
   "cell_type": "markdown",
   "metadata": {},
   "source": [
    "***En esta sección crearemos las dos funciones necesarias para obtener el DataFrame de los valores históricos del Bitcoin, el precio actual y el indicador de tendencia***"
   ]
  },
  {
   "attachments": {},
   "cell_type": "markdown",
   "metadata": {},
   "source": [
    "### Definición de funciones"
   ]
  },
  {
   "cell_type": "code",
   "execution_count": 255,
   "metadata": {},
   "outputs": [],
   "source": [
    "def importar_base_bitcoin():\n",
    "    \n",
    "    global df_bitcoin\n",
    "    df_bitcoin = yf.Ticker('BTC-USD').history(period = '1wk', interval = '5m')\n",
    "#Función de obtención de los datos históricos del valor del Bitcoin (BTC-USD)\n",
    "# en un periodo de una semana con intervalos de 5 minutos\n",
    "\n",
    "def extraer_tendencias():\n",
    "    \n",
    "    global precio_actual, tendencia\n",
    "    \n",
    "    url = 'https://coinmarketcap.com/'\n",
    "    headers = {'User-Agent' : 'Mozilla/5.0 (Windows NT 10.0; Win64; x64) AppleWebKit/537.36 (KHTML, like Gecko)Chrome/113.0.0.0 Safari/537.36'}\n",
    "    response = requests.get(url, headers = headers)\n",
    "    soup = (BeautifulSoup(response.content, 'html.parser')).tbody\n",
    "    filas = soup.find_all('p', {'class' : 'sc-4984dd93-0 iqdbQL coin-item-symbol'} )\n",
    "    indice_fila = 0\n",
    "\n",
    "    for row in filas:\n",
    "        \n",
    "        if row.getText() == 'BTC':\n",
    "            \n",
    "            break\n",
    "        \n",
    "        else:\n",
    "            \n",
    "            indice_fila += 1\n",
    "\n",
    "    precio_actual = float(soup.find_all('tr')[indice_fila].find_all('td')[3].getText().replace('$', '').replace(',', ''))\n",
    "    tendencia = ''\n",
    "    \n",
    "    if soup.find_all('tr')[indice_fila].find_all('td')[4].span.span['class'][0] == 'icon-Caret-up':\n",
    "        \n",
    "        tendencia = 'alta'\n",
    "        \n",
    "    else:\n",
    "        \n",
    "        tendencia = 'baja'\n",
    "        \n",
    "    return precio_actual, tendencia\n",
    "#Función que obtiene el valor del precio actual del Bitcoin y el indicador de tendencia"
   ]
  },
  {
   "cell_type": "code",
   "execution_count": 273,
   "metadata": {},
   "outputs": [
    {
     "data": {
      "text/plain": [
       "(27798.61, 'alta')"
      ]
     },
     "execution_count": 273,
     "metadata": {},
     "output_type": "execute_result"
    }
   ],
   "source": [
    "extraer_tendencias()"
   ]
  }
 ],
 "metadata": {
  "kernelspec": {
   "display_name": "Python 3",
   "language": "python",
   "name": "python3"
  },
  "language_info": {
   "codemirror_mode": {
    "name": "ipython",
    "version": 3
   },
   "file_extension": ".py",
   "mimetype": "text/x-python",
   "name": "python",
   "nbconvert_exporter": "python",
   "pygments_lexer": "ipython3",
   "version": "3.11.3"
  },
  "orig_nbformat": 4
 },
 "nbformat": 4,
 "nbformat_minor": 2
}
