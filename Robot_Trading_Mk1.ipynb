{
 "cells": [
  {
   "attachments": {},
   "cell_type": "markdown",
   "metadata": {},
   "source": [
    "# Robot Trading"
   ]
  },
  {
   "attachments": {},
   "cell_type": "markdown",
   "metadata": {},
   "source": [
    "## Parte 1: Configuración del ambiente"
   ]
  },
  {
   "attachments": {},
   "cell_type": "markdown",
   "metadata": {},
   "source": [
    "***Vamos a realizar la importación de las bibliotecas y las variables globales que necesitaremos para trabajar en el proyecto***"
   ]
  },
  {
   "cell_type": "code",
   "execution_count": 51,
   "metadata": {},
   "outputs": [],
   "source": [
    "import pandas as pd\n",
    "\n",
    "import numpy as np\n",
    "\n",
    "import yfinance as yf\n",
    "\n",
    "%matplotlib inline\n",
    "import matplotlib.pyplot as plt\n",
    "plt.rc('figure', figsize = (19.2, 10.8))\n",
    "\n",
    "from bs4 import BeautifulSoup; import requests\n",
    "\n",
    "global algoritmo_decision, df_bitcoin, df_bitcoin_limpio, media_bitcoin, precio_actual, tendencia"
   ]
  },
  {
   "attachments": {},
   "cell_type": "markdown",
   "metadata": {},
   "source": [
    "## Parte 2: Obtención de datos"
   ]
  },
  {
   "attachments": {},
   "cell_type": "markdown",
   "metadata": {},
   "source": [
    "***En esta sección crearemos las dos funciones necesarias para obtener el DataFrame de los valores históricos del Bitcoin, el precio actual y el indicador de tendencia***"
   ]
  },
  {
   "attachments": {},
   "cell_type": "markdown",
   "metadata": {},
   "source": [
    "### Definición de funciones"
   ]
  },
  {
   "cell_type": "code",
   "execution_count": 52,
   "metadata": {},
   "outputs": [],
   "source": [
    "def importar_base_bitcoin():\n",
    "    \n",
    "    global df_bitcoin\n",
    "    df_bitcoin = yf.Ticker('BTC-USD').history(period = '7d', interval = '5m')\n",
    "#Función de obtención de los datos históricos del valor del Bitcoin (BTC-USD)\n",
    "# en un periodo de una semana con intervalos de 5 minutos\n",
    "\n",
    "def extraer_tendencias():\n",
    "    \n",
    "    global precio_actual, tendencia\n",
    "    \n",
    "    url = 'https://coinmarketcap.com/'\n",
    "    headers = {'User-Agent' : 'Mozilla/5.0 (Windows NT 10.0; Win64; x64) AppleWebKit/537.36 (KHTML, like Gecko)Chrome/113.0.0.0 Safari/537.36'}\n",
    "    response = requests.get(url, headers = headers)\n",
    "    soup = (BeautifulSoup(response.content, 'html.parser')).tbody\n",
    "    filas = soup.find_all('p', {'class' : 'sc-4984dd93-0 iqdbQL coin-item-symbol'} )\n",
    "    indice_fila = 0\n",
    "\n",
    "    for row in filas:\n",
    "        \n",
    "        if row.getText() == 'BTC':\n",
    "            \n",
    "            break\n",
    "        \n",
    "        else:\n",
    "            \n",
    "            indice_fila += 1\n",
    "    #Con este contador ubicamos la fila en la que se encuentra el Bitcoin, esto está pensado para casos en los que ya no se\n",
    "    # encuentre en primera posición, pero también es fácilmente modificable para obtener los valores de otras criptomonedas\n",
    "\n",
    "    precio_actual = float(soup.find_all('tr')[indice_fila].find_all('td')[3].getText().replace('$', '').replace(',', ''))\n",
    "    tendencia = ''\n",
    "    \n",
    "    if soup.find_all('tr')[indice_fila].find_all('td')[4].span.span['class'][0] == 'icon-Caret-up':\n",
    "        \n",
    "        tendencia = 'Alta'\n",
    "        \n",
    "    else:\n",
    "        \n",
    "        tendencia = 'Baja'\n",
    "        \n",
    "    print('El precio actual y la tendencia son:', precio_actual, tendencia)\n",
    "#Función que obtiene el valor del precio actual del Bitcoin y el indicador de tendencia"
   ]
  },
  {
   "attachments": {},
   "cell_type": "markdown",
   "metadata": {},
   "source": [
    "# Parte 3: Limpieza de datos"
   ]
  },
  {
   "cell_type": "code",
   "execution_count": 53,
   "metadata": {},
   "outputs": [],
   "source": [
    "def limpieza_datos():\n",
    "    \n",
    "    global df_bitcoin, df_bitcoin_limpio, media_bitcoin\n",
    "    df_bitcoin_limpio = df_bitcoin.copy()\n",
    "    df_bitcoin_limpio = df_bitcoin_limpio[~df_bitcoin.index.duplicated()]\n",
    "    #Copiamos el DataFrame original para trabajar sobre la copia y eliminamos los índices duplicados\n",
    "\n",
    "    df_bitcoin_limpio.dropna(subset = ['Close'], inplace=True)\n",
    "    #Eliminamos todos los valores 'Nan' de la columna 'Close' del DataFrame\n",
    "    \n",
    "    df_bitcoin_limpio = df_bitcoin_limpio[df_bitcoin_limpio['Volume'] > 0]\n",
    "    #Eliminamos todos los valores iguales o menores a cero de la columna 'Volume' del DataFrame\n",
    "    \n",
    "    Valor = df_bitcoin_limpio['Close']\n",
    "    Q1 = Valor.quantile(.25)\n",
    "    Q3 = Valor.quantile(.75)\n",
    "    IIQ = Q3 - Q1\n",
    "    limite_inferior = Q1 - (1.5 * IIQ)\n",
    "    limite_superior = Q3 + (1.5 * IIQ)\n",
    "    #Calculamos los valores de nuestra gráfica boxplot con los que filtraremos los datos\n",
    "\n",
    "    filtro_outliers = (Valor >= limite_inferior) & (Valor <= limite_superior)\n",
    "    df_bitcoin_limpio = df_bitcoin_limpio[filtro_outliers]\n",
    "    #Con estas dos líneas de código eliminamos los outliers en caso de existir\n",
    "\n",
    "    filtro_q1_q3 = (Valor >= Q1) & (Valor <= Q3)\n",
    "    df_bitcoin_limpio = df_bitcoin_limpio[filtro_q1_q3]\n",
    "    #Con estas dos líneas de código seleccionamos solo los valores entre el Q1 y Q3\n",
    "\n",
    "    df_bitcoin_limpio.reset_index(inplace = True)\n",
    "    #Reasignamos el index después de haber hecho el filtro a los datos\n",
    "    \n",
    "    media_bitcoin = round(df_bitcoin_limpio['Close'].mean(), 2)\n",
    "    #Calculamos la media de los valores de la columna 'Close' del DataFrame y redondeamos a 2 decimales\n",
    "    \n",
    "    print('El precio promedio del bitcoin es:', media_bitcoin)"
   ]
  },
  {
   "cell_type": "code",
   "execution_count": 54,
   "metadata": {},
   "outputs": [
    {
     "name": "stdout",
     "output_type": "stream",
     "text": [
      "El precio actual y la tendencia son: 26804.05 Alta\n",
      "El precio promedio del bitcoin es: 27334.1\n"
     ]
    }
   ],
   "source": [
    "importar_base_bitcoin()\n",
    "extraer_tendencias()\n",
    "limpieza_datos()"
   ]
  }
 ],
 "metadata": {
  "kernelspec": {
   "display_name": "Python 3",
   "language": "python",
   "name": "python3"
  },
  "language_info": {
   "codemirror_mode": {
    "name": "ipython",
    "version": 3
   },
   "file_extension": ".py",
   "mimetype": "text/x-python",
   "name": "python",
   "nbconvert_exporter": "python",
   "pygments_lexer": "ipython3",
   "version": "3.11.3"
  },
  "orig_nbformat": 4
 },
 "nbformat": 4,
 "nbformat_minor": 2
}
